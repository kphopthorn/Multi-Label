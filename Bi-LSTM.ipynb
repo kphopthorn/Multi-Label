{
  "nbformat": 4,
  "nbformat_minor": 0,
  "metadata": {
    "colab": {
      "provenance": [],
      "gpuType": "T4",
      "authorship_tag": "ABX9TyNZmt5y0zLngxZFb1GTdvI+",
      "include_colab_link": true
    },
    "kernelspec": {
      "name": "python3",
      "display_name": "Python 3"
    },
    "language_info": {
      "name": "python"
    },
    "accelerator": "GPU"
  },
  "cells": [
    {
      "cell_type": "markdown",
      "metadata": {
        "id": "view-in-github",
        "colab_type": "text"
      },
      "source": [
        "<a href=\"https://colab.research.google.com/github/kphopthorn/Multi-Label/blob/main/FULL_Bi_LSTM.ipynb\" target=\"_parent\"><img src=\"https://colab.research.google.com/assets/colab-badge.svg\" alt=\"Open In Colab\"/></a>"
      ]
    },
    {
      "cell_type": "code",
      "execution_count": null,
      "metadata": {
        "colab": {
          "base_uri": "https://localhost:8080/"
        },
        "id": "YblI-AU3okx4",
        "outputId": "ad952d3e-85b8-4824-dd1a-fe27c8c7a23e"
      },
      "outputs": [
        {
          "output_type": "stream",
          "name": "stdout",
          "text": [
            "Collecting pythainlp\n",
            "  Downloading pythainlp-4.0.2-py3-none-any.whl (13.4 MB)\n",
            "\u001b[2K     \u001b[90m━━━━━━━━━━━━━━━━━━━━━━━━━━━━━━━━━━━━━━━\u001b[0m \u001b[32m13.4/13.4 MB\u001b[0m \u001b[31m105.3 MB/s\u001b[0m eta \u001b[36m0:00:00\u001b[0m\n",
            "\u001b[?25hCollecting tensorflow_addons\n",
            "  Downloading tensorflow_addons-0.21.0-cp310-cp310-manylinux_2_17_x86_64.manylinux2014_x86_64.whl (612 kB)\n",
            "\u001b[2K     \u001b[90m━━━━━━━━━━━━━━━━━━━━━━━━━━━━━━━━━━━━━━\u001b[0m \u001b[32m612.1/612.1 kB\u001b[0m \u001b[31m54.1 MB/s\u001b[0m eta \u001b[36m0:00:00\u001b[0m\n",
            "\u001b[?25hRequirement already satisfied: requests>=2.22.0 in /usr/local/lib/python3.10/dist-packages (from pythainlp) (2.31.0)\n",
            "Requirement already satisfied: packaging in /usr/local/lib/python3.10/dist-packages (from tensorflow_addons) (23.1)\n",
            "Collecting typeguard<3.0.0,>=2.7 (from tensorflow_addons)\n",
            "  Downloading typeguard-2.13.3-py3-none-any.whl (17 kB)\n",
            "Requirement already satisfied: charset-normalizer<4,>=2 in /usr/local/lib/python3.10/dist-packages (from requests>=2.22.0->pythainlp) (3.2.0)\n",
            "Requirement already satisfied: idna<4,>=2.5 in /usr/local/lib/python3.10/dist-packages (from requests>=2.22.0->pythainlp) (3.4)\n",
            "Requirement already satisfied: urllib3<3,>=1.21.1 in /usr/local/lib/python3.10/dist-packages (from requests>=2.22.0->pythainlp) (2.0.4)\n",
            "Requirement already satisfied: certifi>=2017.4.17 in /usr/local/lib/python3.10/dist-packages (from requests>=2.22.0->pythainlp) (2023.7.22)\n",
            "Installing collected packages: typeguard, tensorflow_addons, pythainlp\n",
            "Successfully installed pythainlp-4.0.2 tensorflow_addons-0.21.0 typeguard-2.13.3\n"
          ]
        }
      ],
      "source": [
        "!pip install pythainlp tensorflow_addons"
      ]
    },
    {
      "cell_type": "code",
      "source": [
        "from google.colab import drive\n",
        "drive.mount('/content/drive')"
      ],
      "metadata": {
        "id": "TgB1jpT2p4zk",
        "colab": {
          "base_uri": "https://localhost:8080/"
        },
        "outputId": "e4bca5dc-b78d-4c7d-e8bb-ca2650afd2ce"
      },
      "execution_count": null,
      "outputs": [
        {
          "output_type": "stream",
          "name": "stdout",
          "text": [
            "Mounted at /content/drive\n"
          ]
        }
      ]
    },
    {
      "cell_type": "code",
      "source": [
        "import pandas as pd\n",
        "import re\n",
        "from keras.preprocessing.text import Tokenizer\n",
        "from keras.utils import pad_sequences\n",
        "import numpy as np\n",
        "import seaborn as sn\n",
        "import matplotlib.pyplot as plt\n",
        "import pickle as p\n",
        "import plotly\n",
        "import plotly.graph_objs as go\n",
        "from sklearn.metrics import confusion_matrix\n",
        "from sklearn.metrics import classification_report\n",
        "from pythainlp.tokenize import word_tokenize"
      ],
      "metadata": {
        "id": "HeaPMqa1p7ku"
      },
      "execution_count": null,
      "outputs": []
    },
    {
      "cell_type": "code",
      "source": [
        "EPOCHS = 5\n",
        "BS = 64"
      ],
      "metadata": {
        "id": "mREQf8u0qOKF"
      },
      "execution_count": null,
      "outputs": []
    },
    {
      "cell_type": "code",
      "source": [
        "train_data = pd.read_csv('/content/drive/MyDrive/IS_multi-label/train_data.csv')"
      ],
      "metadata": {
        "id": "AOMZYw1_qPKE"
      },
      "execution_count": null,
      "outputs": []
    },
    {
      "cell_type": "code",
      "source": [
        "test_data = pd.read_csv('/content/drive/MyDrive/IS_multi-label/test_data.csv')"
      ],
      "metadata": {
        "id": "xBUTkCi8qS60"
      },
      "execution_count": null,
      "outputs": []
    },
    {
      "cell_type": "code",
      "source": [
        "import pickle\n",
        "with open('/content/drive/MyDrive/IS_multi-label/tokenizer.pickle', 'rb') as handle:\n",
        "    tokenizer = pickle.load(handle)"
      ],
      "metadata": {
        "id": "YDjr-jDGqVfs"
      },
      "execution_count": null,
      "outputs": []
    },
    {
      "cell_type": "code",
      "source": [
        "def encoding_doc(token, words):\n",
        "    return(token.texts_to_sequences(words))"
      ],
      "metadata": {
        "id": "j0f0qp6lqYTL"
      },
      "execution_count": null,
      "outputs": []
    },
    {
      "cell_type": "code",
      "source": [
        "vocab_size = len(tokenizer.word_index) + 1\n",
        "max_len = 100\n",
        "embedding_dim = 300"
      ],
      "metadata": {
        "id": "WblfrIVMqa6V"
      },
      "execution_count": null,
      "outputs": []
    },
    {
      "cell_type": "code",
      "source": [
        "X_train = train_data.comm_norm.values.tolist()\n",
        "X_train[:5]"
      ],
      "metadata": {
        "colab": {
          "base_uri": "https://localhost:8080/"
        },
        "id": "uAK_jjBjqdFr",
        "outputId": "56c1dbb8-b195-4404-8a60-75e3c922c0a5"
      },
      "execution_count": null,
      "outputs": [
        {
          "output_type": "execute_result",
          "data": {
            "text/plain": [
              "['สะพาน ไทย ญี่ปุ่น มุ่งหน้า บ่อน ไก่ สะพาน เหลือง ทางลง สวนลุม หลุม ลึก หลุม',\n",
              " '‘ ข้อมูล บรรยาย ประกอบการ ปักหมุด ปัญหา แจ้ง แมว จรจัด อาศัย คอนโด บ้าน ซอย อ่อนนุช ถนน อ่อนนุช สวนหลวง แขวง สวนหลวง',\n",
              " 'ปัญหา งานก่อสร้าง อาคาร ที่จอดรถ คนงาน เชื่อมเหล็ก สะเก็ด ไฟ ล่วง หล่น ลงมา รถ ประชาชน การป้องกัน ตรวจสอบ ปัญหา เกิดเหตุ ข้าม สะพาน มีนบุรี เมตร ซอย ทีน ซอย แยก ราษฎร์ พัฒนา แยก มิสทีน ถนน รามคำแหง สะพาน ประชาชน แจ้ง ข้าม สะพาน มีนบุรี เมตร ซอย มิสทีน สะพาน ก่อสร้าง อาคาร ที่จอดรถ คนงาน เชื่อมเหล็ก สะเก็ด ไฟ ล่วง หล่น ลงมา รถ ประชาชน การป้องกัน สะเก็ด ลูกไฟ ล่วง ถนน',\n",
              " 'ต้นไม้ ยื่น ออกจาก บ้าน ถนน เจ้าของ ต้นไม้ กีดขวาง การจราจร ถนน รูด รถ รอย',\n",
              " 'สะพานลอย ป้ายรถเมล์ ห้าง เพชรเกษม ปาก ทางเข้า สาย มืด']"
            ]
          },
          "metadata": {},
          "execution_count": 10
        }
      ]
    },
    {
      "cell_type": "code",
      "source": [
        "X_test = test_data.comm_norm.values.tolist()\n",
        "X_test[:5]"
      ],
      "metadata": {
        "colab": {
          "base_uri": "https://localhost:8080/"
        },
        "id": "uTm3O7VAqell",
        "outputId": "740c1c26-afaa-425e-af5f-b062738beffc"
      },
      "execution_count": null,
      "outputs": [
        {
          "output_type": "execute_result",
          "data": {
            "text/plain": [
              "['ดำเนินการ ซ่อม ไฟ ส่องสว่าง ดับ ชำรุด บริเวณ ทางเดิน ริม คลอง โพ ถนน ประชาราษฎร์ สาย ฝั่ง ธนาคาร กสิกร สาขา โพ ไฟฟ้า ส่องสว่าง ดับ ชำรุด เป็นเวลา ทางเดิน ริม คลอง ริม เขื่อน แม่น้ำ เจ้าพระยา ตอนกลางคืน มืด อันตราย ขอความกรุณา เร่ง ดำเนินการ บรรเทา ความเดือดร้อน ประชาชน',\n",
              " 'ฝา บ่อ ต่ำกว่า ระดับ',\n",
              " 'ถังขยะ ซอย มากเกินไป พนักงาน บ้าน ที่ทำงาน พนักงาน กวาด หน้าบ้าน ตอนนี้ ต้นไม้ ปลูก เกินงาม สกปรก ถังขยะ ดัน วาง สมควร รก',\n",
              " 'ตัด ต้นไม้ บริเวณ ถนน กลัว หัก โค่น กิ่งไม้ ผุ หล่น เกรง หล่น ใส่ สัญจร ถนน',\n",
              " 'ทราย เลอะ ถนน ยูเทิร์น รถ ลื่น อุบัติเหตุ']"
            ]
          },
          "metadata": {},
          "execution_count": 11
        }
      ]
    },
    {
      "cell_type": "code",
      "source": [
        "enc_train = encoding_doc(tokenizer, X_train)\n",
        "print(X_train[0])\n",
        "print(enc_train[0])"
      ],
      "metadata": {
        "colab": {
          "base_uri": "https://localhost:8080/"
        },
        "id": "2wP0RKGoqf3L",
        "outputId": "3d76c618-88cc-403a-9f54-55acad88a482"
      },
      "execution_count": null,
      "outputs": [
        {
          "output_type": "stream",
          "name": "stdout",
          "text": [
            "สะพาน ไทย ญี่ปุ่น มุ่งหน้า บ่อน ไก่ สะพาน เหลือง ทางลง สวนลุม หลุม ลึก หลุม\n",
            "[20, 364, 2010, 337, 3744, 667, 20, 1200, 585, 2400, 109, 660, 109]\n"
          ]
        }
      ]
    },
    {
      "cell_type": "code",
      "source": [
        "enc_test = encoding_doc(tokenizer, X_test)\n",
        "print(X_test[0])\n",
        "print(enc_test[0])"
      ],
      "metadata": {
        "colab": {
          "base_uri": "https://localhost:8080/"
        },
        "id": "xiLh_Q2nqhPc",
        "outputId": "8a122f44-469e-491a-ad7a-407715b04867"
      },
      "execution_count": null,
      "outputs": [
        {
          "output_type": "stream",
          "name": "stdout",
          "text": [
            "ดำเนินการ ซ่อม ไฟ ส่องสว่าง ดับ ชำรุด บริเวณ ทางเดิน ริม คลอง โพ ถนน ประชาราษฎร์ สาย ฝั่ง ธนาคาร กสิกร สาขา โพ ไฟฟ้า ส่องสว่าง ดับ ชำรุด เป็นเวลา ทางเดิน ริม คลอง ริม เขื่อน แม่น้ำ เจ้าพระยา ตอนกลางคืน มืด อันตราย ขอความกรุณา เร่ง ดำเนินการ บรรเทา ความเดือดร้อน ประชาชน\n",
            "[15, 126, 14, 59, 31, 45, 7, 71, 125, 12, 1845, 2, 892, 38, 42, 663, 2008, 550, 1845, 81, 59, 31, 45, 273, 71, 125, 12, 125, 1171, 1857, 1136, 303, 68, 36, 629, 199, 15, 579, 107, 8]\n"
          ]
        }
      ]
    },
    {
      "cell_type": "code",
      "source": [
        "def padding_doc(encoded_doc, max_length):\n",
        "    return(pad_sequences(encoded_doc, maxlen = max_length, padding = \"post\"))"
      ],
      "metadata": {
        "id": "txRd4TFSqitU"
      },
      "execution_count": null,
      "outputs": []
    },
    {
      "cell_type": "code",
      "source": [
        "train_padded = padding_doc(enc_train, max_len)\n",
        "print(\"Shape of padded docs = \",train_padded.shape)\n",
        "\n",
        "print(X_train[0])\n",
        "print(enc_train[0])\n",
        "print(train_padded[0])"
      ],
      "metadata": {
        "colab": {
          "base_uri": "https://localhost:8080/"
        },
        "id": "qd8xkE2Eqj8r",
        "outputId": "5c905aa3-8cf0-4537-f1bc-d2793920b685"
      },
      "execution_count": null,
      "outputs": [
        {
          "output_type": "stream",
          "name": "stdout",
          "text": [
            "Shape of padded docs =  (83967, 100)\n",
            "สะพาน ไทย ญี่ปุ่น มุ่งหน้า บ่อน ไก่ สะพาน เหลือง ทางลง สวนลุม หลุม ลึก หลุม\n",
            "[20, 364, 2010, 337, 3744, 667, 20, 1200, 585, 2400, 109, 660, 109]\n",
            "[  20  364 2010  337 3744  667   20 1200  585 2400  109  660  109    0\n",
            "    0    0    0    0    0    0    0    0    0    0    0    0    0    0\n",
            "    0    0    0    0    0    0    0    0    0    0    0    0    0    0\n",
            "    0    0    0    0    0    0    0    0    0    0    0    0    0    0\n",
            "    0    0    0    0    0    0    0    0    0    0    0    0    0    0\n",
            "    0    0    0    0    0    0    0    0    0    0    0    0    0    0\n",
            "    0    0    0    0    0    0    0    0    0    0    0    0    0    0\n",
            "    0    0]\n"
          ]
        }
      ]
    },
    {
      "cell_type": "code",
      "source": [
        "test_padded = padding_doc(enc_test, max_len)"
      ],
      "metadata": {
        "id": "e0OhOprEqldL"
      },
      "execution_count": null,
      "outputs": []
    },
    {
      "cell_type": "code",
      "source": [
        "y1 = train_data[['PM2.5']].values\n",
        "y2 = train_data[['การเดินทาง']].values\n",
        "y3 = train_data[['กีดขวาง']].values\n",
        "y4 = train_data[['คนจรจัด']].values\n",
        "y5 = train_data[['คลอง']].values\n",
        "y6 = train_data[['ความปลอดภัย']].values\n",
        "y7 = train_data[['ความสะอาด']].values\n",
        "y8 = train_data[['จราจร']].values\n",
        "y9 = train_data[['ต้นไม้']].values\n",
        "y10 = train_data[['ถนน']].values\n",
        "y11 = train_data[['ทางเท้า']].values\n",
        "y12 = train_data[['ท่อระบายน้ำ']].values\n",
        "y13 = train_data[['น้ำท่วม']].values\n",
        "y14 = train_data[['ป้าย']].values\n",
        "y15 = train_data[['ป้ายจราจร']].values\n",
        "y16 = train_data[['ร้องเรียน']].values\n",
        "y17 = train_data[['สอบถาม']].values\n",
        "y18 = train_data[['สะพาน']].values\n",
        "y19 = train_data[['สัตว์จรจัด']].values\n",
        "y20 = train_data[['สายไฟ']].values\n",
        "y21 = train_data[['ห้องน้ำ']].values\n",
        "y22 = train_data[['เสนอแนะ']].values\n",
        "y23 = train_data[['เสียงรบกวน']].values\n",
        "y24 = train_data[['แสงสว่าง']].values"
      ],
      "metadata": {
        "id": "1h15YKsoqnIr"
      },
      "execution_count": null,
      "outputs": []
    },
    {
      "cell_type": "code",
      "source": [
        "def load_fasttext_fast(word_index, max_words=vocab_size, embed_size=300):\n",
        "    EMBEDDING_FILE = '/content/drive/MyDrive/IS_multi-label/cc.th.300.vec'\n",
        "    emb_mean, emb_std = -0.0033470048, 0.109855264\n",
        "\n",
        "    embedding_matrix = np.random.normal(emb_mean, emb_std, (max_words, embed_size))\n",
        "    with open(EMBEDDING_FILE, 'r', encoding=\"utf8\") as f:\n",
        "        for line in f:\n",
        "            if len(line) <= 100:\n",
        "                continue\n",
        "            word, vec = line.split(' ', 1)\n",
        "            if word not in word_index:\n",
        "                continue\n",
        "            i = word_index[word]\n",
        "            if i >= max_words:\n",
        "                continue\n",
        "            embedding_vector = np.asarray(vec.split(' '), dtype='float32')[:300]\n",
        "            if len(embedding_vector) == 300:\n",
        "                embedding_matrix[i] = embedding_vector\n",
        "    return embedding_matrix"
      ],
      "metadata": {
        "id": "x_vaZWLhqo9r"
      },
      "execution_count": null,
      "outputs": []
    },
    {
      "cell_type": "code",
      "source": [
        "embedding_matrix =  load_fasttext_fast(tokenizer.word_index)\n",
        "embedding_matrix.shape"
      ],
      "metadata": {
        "colab": {
          "base_uri": "https://localhost:8080/"
        },
        "id": "Q8y80wEbqqqD",
        "outputId": "44db6576-f409-47de-99e4-897d1fd9c74a"
      },
      "execution_count": null,
      "outputs": [
        {
          "output_type": "execute_result",
          "data": {
            "text/plain": [
              "(24573, 300)"
            ]
          },
          "metadata": {},
          "execution_count": 19
        }
      ]
    },
    {
      "cell_type": "code",
      "source": [
        "import tensorflow as tf\n",
        "tf.keras.backend.clear_session()"
      ],
      "metadata": {
        "id": "Pen925hpqsZ6"
      },
      "execution_count": null,
      "outputs": []
    },
    {
      "cell_type": "code",
      "source": [
        "from tensorflow.keras.models import Sequential, Model\n",
        "from tensorflow.keras.layers import LSTM, GRU, Dense, Embedding, Dropout, GlobalAveragePooling1D, Flatten, SpatialDropout1D, Bidirectional\n",
        "from tensorflow.keras.optimizers import Adam\n",
        "adam = Adam(learning_rate=0.00001)"
      ],
      "metadata": {
        "id": "TlCc-v1iqtk6"
      },
      "execution_count": null,
      "outputs": []
    },
    {
      "cell_type": "code",
      "source": [
        "model = Sequential()\n",
        "model.add(Embedding(vocab_size,\n",
        "                     embedding_dim,\n",
        "                     input_length = max_len, weights = [embedding_matrix], trainable = True))\n",
        "model.add(Bidirectional(LSTM(100,return_sequences = False)))\n",
        "model.add(Dropout(0.2))\n",
        "output1 = Dense(1, activation='sigmoid', name='output1')(model.layers[-1].output)\n",
        "output2 = Dense(1, activation='sigmoid', name='output2')(model.layers[-1].output)\n",
        "output3 = Dense(1, activation='sigmoid', name='output3')(model.layers[-1].output)\n",
        "output4 = Dense(1, activation='sigmoid', name='output4')(model.layers[-1].output)\n",
        "output5 = Dense(1, activation='sigmoid', name='output5')(model.layers[-1].output)\n",
        "output6 = Dense(1, activation='sigmoid', name='output6')(model.layers[-1].output)\n",
        "output7 = Dense(1, activation='sigmoid', name='output7')(model.layers[-1].output)\n",
        "output8 = Dense(1, activation='sigmoid', name='output8')(model.layers[-1].output)\n",
        "output9 = Dense(1, activation='sigmoid', name='output9')(model.layers[-1].output)\n",
        "output10 = Dense(1, activation='sigmoid', name='output10')(model.layers[-1].output)\n",
        "output11 = Dense(1, activation='sigmoid', name='output11')(model.layers[-1].output)\n",
        "output12 = Dense(1, activation='sigmoid', name='output12')(model.layers[-1].output)\n",
        "output13 = Dense(1, activation='sigmoid', name='output13')(model.layers[-1].output)\n",
        "output14 = Dense(1, activation='sigmoid', name='output14')(model.layers[-1].output)\n",
        "output15 = Dense(1, activation='sigmoid', name='output15')(model.layers[-1].output)\n",
        "output16 = Dense(1, activation='sigmoid', name='output16')(model.layers[-1].output)\n",
        "output17 = Dense(1, activation='sigmoid', name='output17')(model.layers[-1].output)\n",
        "output18 = Dense(1, activation='sigmoid', name='output18')(model.layers[-1].output)\n",
        "output19 = Dense(1, activation='sigmoid', name='output19')(model.layers[-1].output)\n",
        "output20 = Dense(1, activation='sigmoid', name='output20')(model.layers[-1].output)\n",
        "output21 = Dense(1, activation='sigmoid', name='output21')(model.layers[-1].output)\n",
        "output22 = Dense(1, activation='sigmoid', name='output22')(model.layers[-1].output)\n",
        "output23 = Dense(1, activation='sigmoid', name='output23')(model.layers[-1].output)\n",
        "output24 = Dense(1, activation='sigmoid', name='output24')(model.layers[-1].output)\n",
        "\n",
        "model = Model(inputs=model.inputs, outputs=[output1, output2, output3, output4, output5, output6, output7, output8, output9,\n",
        "                                               output10, output11, output12, output13, output14, output15, output16, output17,\n",
        "                                               output18, output19, output20, output21, output22, output23, output24])"
      ],
      "metadata": {
        "id": "v0hZTLIaqwtb"
      },
      "execution_count": null,
      "outputs": []
    },
    {
      "cell_type": "code",
      "source": [
        "print(model.summary())"
      ],
      "metadata": {
        "colab": {
          "base_uri": "https://localhost:8080/"
        },
        "id": "-D4aqcZKrIjV",
        "outputId": "c91f14d0-c7ba-4fbf-c9e0-cb4dd1f8bf04"
      },
      "execution_count": null,
      "outputs": [
        {
          "output_type": "stream",
          "name": "stdout",
          "text": [
            "Model: \"model\"\n",
            "__________________________________________________________________________________________________\n",
            " Layer (type)                Output Shape                 Param #   Connected to                  \n",
            "==================================================================================================\n",
            " embedding_input (InputLaye  [(None, 100)]                0         []                            \n",
            " r)                                                                                               \n",
            "                                                                                                  \n",
            " embedding (Embedding)       (None, 100, 300)             7371900   ['embedding_input[0][0]']     \n",
            "                                                                                                  \n",
            " bidirectional (Bidirection  (None, 200)                  320800    ['embedding[0][0]']           \n",
            " al)                                                                                              \n",
            "                                                                                                  \n",
            " dropout (Dropout)           (None, 200)                  0         ['bidirectional[0][0]']       \n",
            "                                                                                                  \n",
            " output1 (Dense)             (None, 1)                    201       ['dropout[0][0]']             \n",
            "                                                                                                  \n",
            " output2 (Dense)             (None, 1)                    201       ['dropout[0][0]']             \n",
            "                                                                                                  \n",
            " output3 (Dense)             (None, 1)                    201       ['dropout[0][0]']             \n",
            "                                                                                                  \n",
            " output4 (Dense)             (None, 1)                    201       ['dropout[0][0]']             \n",
            "                                                                                                  \n",
            " output5 (Dense)             (None, 1)                    201       ['dropout[0][0]']             \n",
            "                                                                                                  \n",
            " output6 (Dense)             (None, 1)                    201       ['dropout[0][0]']             \n",
            "                                                                                                  \n",
            " output7 (Dense)             (None, 1)                    201       ['dropout[0][0]']             \n",
            "                                                                                                  \n",
            " output8 (Dense)             (None, 1)                    201       ['dropout[0][0]']             \n",
            "                                                                                                  \n",
            " output9 (Dense)             (None, 1)                    201       ['dropout[0][0]']             \n",
            "                                                                                                  \n",
            " output10 (Dense)            (None, 1)                    201       ['dropout[0][0]']             \n",
            "                                                                                                  \n",
            " output11 (Dense)            (None, 1)                    201       ['dropout[0][0]']             \n",
            "                                                                                                  \n",
            " output12 (Dense)            (None, 1)                    201       ['dropout[0][0]']             \n",
            "                                                                                                  \n",
            " output13 (Dense)            (None, 1)                    201       ['dropout[0][0]']             \n",
            "                                                                                                  \n",
            " output14 (Dense)            (None, 1)                    201       ['dropout[0][0]']             \n",
            "                                                                                                  \n",
            " output15 (Dense)            (None, 1)                    201       ['dropout[0][0]']             \n",
            "                                                                                                  \n",
            " output16 (Dense)            (None, 1)                    201       ['dropout[0][0]']             \n",
            "                                                                                                  \n",
            " output17 (Dense)            (None, 1)                    201       ['dropout[0][0]']             \n",
            "                                                                                                  \n",
            " output18 (Dense)            (None, 1)                    201       ['dropout[0][0]']             \n",
            "                                                                                                  \n",
            " output19 (Dense)            (None, 1)                    201       ['dropout[0][0]']             \n",
            "                                                                                                  \n",
            " output20 (Dense)            (None, 1)                    201       ['dropout[0][0]']             \n",
            "                                                                                                  \n",
            " output21 (Dense)            (None, 1)                    201       ['dropout[0][0]']             \n",
            "                                                                                                  \n",
            " output22 (Dense)            (None, 1)                    201       ['dropout[0][0]']             \n",
            "                                                                                                  \n",
            " output23 (Dense)            (None, 1)                    201       ['dropout[0][0]']             \n",
            "                                                                                                  \n",
            " output24 (Dense)            (None, 1)                    201       ['dropout[0][0]']             \n",
            "                                                                                                  \n",
            "==================================================================================================\n",
            "Total params: 7697524 (29.36 MB)\n",
            "Trainable params: 7697524 (29.36 MB)\n",
            "Non-trainable params: 0 (0.00 Byte)\n",
            "__________________________________________________________________________________________________\n",
            "None\n"
          ]
        }
      ]
    },
    {
      "cell_type": "code",
      "source": [
        "model.compile(loss='binary_crossentropy', optimizer='adam', metrics=['acc'])"
      ],
      "metadata": {
        "id": "OuLk6mQhrM1L"
      },
      "execution_count": null,
      "outputs": []
    },
    {
      "cell_type": "code",
      "source": [
        "history = model.fit(x=train_padded, y=[y1, y2, y3, y4, y5, y6, y7, y8, y9, y10, y11, y12, y13, y14, y15, y16, y17, y18, y19, y20, y21, y22, y23, y24],\n",
        "                    batch_size=BS, epochs=4, verbose=1, validation_split=0.2)"
      ],
      "metadata": {
        "colab": {
          "base_uri": "https://localhost:8080/"
        },
        "id": "_f4ojo_8rTuE",
        "outputId": "a9810f9d-534b-4004-cc2f-c3ce16e0335c"
      },
      "execution_count": null,
      "outputs": [
        {
          "output_type": "stream",
          "name": "stdout",
          "text": [
            "Epoch 1/4\n",
            "1050/1050 [==============================] - 109s 89ms/step - loss: 2.9483 - output1_loss: 0.0606 - output2_loss: 0.0504 - output3_loss: 0.1532 - output4_loss: 0.0631 - output5_loss: 0.1357 - output6_loss: 0.1991 - output7_loss: 0.1431 - output8_loss: 0.1310 - output9_loss: 0.1006 - output10_loss: 0.1883 - output11_loss: 0.1838 - output12_loss: 0.1669 - output13_loss: 0.1243 - output14_loss: 0.1266 - output15_loss: 0.0274 - output16_loss: 0.2788 - output17_loss: 0.0763 - output18_loss: 0.1480 - output19_loss: 0.0968 - output20_loss: 0.1199 - output21_loss: 0.0350 - output22_loss: 0.0745 - output23_loss: 0.1093 - output24_loss: 0.1554 - output1_acc: 0.9851 - output2_acc: 0.9908 - output3_acc: 0.9458 - output4_acc: 0.9852 - output5_acc: 0.9553 - output6_acc: 0.9288 - output7_acc: 0.9539 - output8_acc: 0.9584 - output9_acc: 0.9698 - output10_acc: 0.9310 - output11_acc: 0.9349 - output12_acc: 0.9439 - output13_acc: 0.9625 - output14_acc: 0.9600 - output15_acc: 0.9950 - output16_acc: 0.8992 - output17_acc: 0.9808 - output18_acc: 0.9526 - output19_acc: 0.9720 - output20_acc: 0.9634 - output21_acc: 0.9922 - output22_acc: 0.9838 - output23_acc: 0.9661 - output24_acc: 0.9464 - val_loss: 1.4981 - val_output1_loss: 0.0291 - val_output2_loss: 0.0370 - val_output3_loss: 0.0792 - val_output4_loss: 0.0352 - val_output5_loss: 0.0629 - val_output6_loss: 0.0581 - val_output7_loss: 0.0809 - val_output8_loss: 0.0462 - val_output9_loss: 0.0302 - val_output10_loss: 0.1042 - val_output11_loss: 0.0848 - val_output12_loss: 0.1019 - val_output13_loss: 0.0708 - val_output14_loss: 0.0418 - val_output15_loss: 0.0092 - val_output16_loss: 0.2420 - val_output17_loss: 0.0336 - val_output18_loss: 0.0641 - val_output19_loss: 0.0337 - val_output20_loss: 0.0514 - val_output21_loss: 0.0251 - val_output22_loss: 0.0421 - val_output23_loss: 0.0522 - val_output24_loss: 0.0823 - val_output1_acc: 0.9924 - val_output2_acc: 0.9932 - val_output3_acc: 0.9734 - val_output4_acc: 0.9891 - val_output5_acc: 0.9768 - val_output6_acc: 0.9855 - val_output7_acc: 0.9724 - val_output8_acc: 0.9867 - val_output9_acc: 0.9913 - val_output10_acc: 0.9677 - val_output11_acc: 0.9714 - val_output12_acc: 0.9649 - val_output13_acc: 0.9794 - val_output14_acc: 0.9883 - val_output15_acc: 0.9973 - val_output16_acc: 0.9110 - val_output17_acc: 0.9850 - val_output18_acc: 0.9817 - val_output19_acc: 0.9909 - val_output20_acc: 0.9843 - val_output21_acc: 0.9950 - val_output22_acc: 0.9858 - val_output23_acc: 0.9862 - val_output24_acc: 0.9725\n",
            "Epoch 2/4\n",
            "1050/1050 [==============================] - 54s 51ms/step - loss: 1.3127 - output1_loss: 0.0226 - output2_loss: 0.0406 - output3_loss: 0.0774 - output4_loss: 0.0251 - output5_loss: 0.0531 - output6_loss: 0.0603 - output7_loss: 0.0740 - output8_loss: 0.0383 - output9_loss: 0.0224 - output10_loss: 0.1064 - output11_loss: 0.0718 - output12_loss: 0.0909 - output13_loss: 0.0689 - output14_loss: 0.0334 - output15_loss: 0.0060 - output16_loss: 0.2198 - output17_loss: 0.0192 - output18_loss: 0.0554 - output19_loss: 0.0294 - output20_loss: 0.0434 - output21_loss: 0.0172 - output22_loss: 0.0204 - output23_loss: 0.0351 - output24_loss: 0.0818 - output1_acc: 0.9932 - output2_acc: 0.9917 - output3_acc: 0.9741 - output4_acc: 0.9932 - output5_acc: 0.9810 - output6_acc: 0.9834 - output7_acc: 0.9747 - output8_acc: 0.9887 - output9_acc: 0.9941 - output10_acc: 0.9652 - output11_acc: 0.9759 - output12_acc: 0.9693 - output13_acc: 0.9803 - output14_acc: 0.9904 - output15_acc: 0.9984 - output16_acc: 0.9208 - output17_acc: 0.9941 - output18_acc: 0.9848 - output19_acc: 0.9923 - output20_acc: 0.9874 - output21_acc: 0.9956 - output22_acc: 0.9940 - output23_acc: 0.9905 - output24_acc: 0.9722 - val_loss: 1.1311 - val_output1_loss: 0.0188 - val_output2_loss: 0.0303 - val_output3_loss: 0.0634 - val_output4_loss: 0.0191 - val_output5_loss: 0.0455 - val_output6_loss: 0.0497 - val_output7_loss: 0.0673 - val_output8_loss: 0.0298 - val_output9_loss: 0.0176 - val_output10_loss: 0.0915 - val_output11_loss: 0.0646 - val_output12_loss: 0.0919 - val_output13_loss: 0.0638 - val_output14_loss: 0.0295 - val_output15_loss: 0.0024 - val_output16_loss: 0.2155 - val_output17_loss: 0.0101 - val_output18_loss: 0.0509 - val_output19_loss: 0.0225 - val_output20_loss: 0.0363 - val_output21_loss: 0.0104 - val_output22_loss: 0.0083 - val_output23_loss: 0.0234 - val_output24_loss: 0.0686 - val_output1_acc: 0.9940 - val_output2_acc: 0.9932 - val_output3_acc: 0.9777 - val_output4_acc: 0.9946 - val_output5_acc: 0.9821 - val_output6_acc: 0.9862 - val_output7_acc: 0.9772 - val_output8_acc: 0.9918 - val_output9_acc: 0.9949 - val_output10_acc: 0.9702 - val_output11_acc: 0.9777 - val_output12_acc: 0.9683 - val_output13_acc: 0.9809 - val_output14_acc: 0.9909 - val_output15_acc: 0.9995 - val_output16_acc: 0.9220 - val_output17_acc: 0.9969 - val_output18_acc: 0.9852 - val_output19_acc: 0.9940 - val_output20_acc: 0.9884 - val_output21_acc: 0.9958 - val_output22_acc: 0.9984 - val_output23_acc: 0.9934 - val_output24_acc: 0.9765\n",
            "Epoch 3/4\n",
            "1050/1050 [==============================] - 50s 48ms/step - loss: 1.0445 - output1_loss: 0.0176 - output2_loss: 0.0311 - output3_loss: 0.0632 - output4_loss: 0.0170 - output5_loss: 0.0393 - output6_loss: 0.0490 - output7_loss: 0.0600 - output8_loss: 0.0261 - output9_loss: 0.0159 - output10_loss: 0.0947 - output11_loss: 0.0573 - output12_loss: 0.0760 - output13_loss: 0.0579 - output14_loss: 0.0244 - output15_loss: 0.0028 - output16_loss: 0.1934 - output17_loss: 0.0095 - output18_loss: 0.0474 - output19_loss: 0.0211 - output20_loss: 0.0339 - output21_loss: 0.0074 - output22_loss: 0.0082 - output23_loss: 0.0249 - output24_loss: 0.0666 - output1_acc: 0.9941 - output2_acc: 0.9919 - output3_acc: 0.9792 - output4_acc: 0.9952 - output5_acc: 0.9862 - output6_acc: 0.9858 - output7_acc: 0.9798 - output8_acc: 0.9923 - output9_acc: 0.9957 - output10_acc: 0.9678 - output11_acc: 0.9808 - output12_acc: 0.9744 - output13_acc: 0.9830 - output14_acc: 0.9930 - output15_acc: 0.9993 - output16_acc: 0.9312 - output17_acc: 0.9976 - output18_acc: 0.9864 - output19_acc: 0.9942 - output20_acc: 0.9903 - output21_acc: 0.9980 - output22_acc: 0.9981 - output23_acc: 0.9932 - output24_acc: 0.9773 - val_loss: 1.0553 - val_output1_loss: 0.0179 - val_output2_loss: 0.0232 - val_output3_loss: 0.0592 - val_output4_loss: 0.0165 - val_output5_loss: 0.0416 - val_output6_loss: 0.0443 - val_output7_loss: 0.0650 - val_output8_loss: 0.0275 - val_output9_loss: 0.0151 - val_output10_loss: 0.0897 - val_output11_loss: 0.0625 - val_output12_loss: 0.0882 - val_output13_loss: 0.0614 - val_output14_loss: 0.0249 - val_output15_loss: 0.0017 - val_output16_loss: 0.2083 - val_output17_loss: 0.0085 - val_output18_loss: 0.0479 - val_output19_loss: 0.0208 - val_output20_loss: 0.0345 - val_output21_loss: 0.0053 - val_output22_loss: 0.0058 - val_output23_loss: 0.0213 - val_output24_loss: 0.0642 - val_output1_acc: 0.9942 - val_output2_acc: 0.9940 - val_output3_acc: 0.9798 - val_output4_acc: 0.9955 - val_output5_acc: 0.9854 - val_output6_acc: 0.9877 - val_output7_acc: 0.9783 - val_output8_acc: 0.9919 - val_output9_acc: 0.9956 - val_output10_acc: 0.9708 - val_output11_acc: 0.9790 - val_output12_acc: 0.9695 - val_output13_acc: 0.9823 - val_output14_acc: 0.9926 - val_output15_acc: 0.9996 - val_output16_acc: 0.9254 - val_output17_acc: 0.9976 - val_output18_acc: 0.9859 - val_output19_acc: 0.9942 - val_output20_acc: 0.9892 - val_output21_acc: 0.9983 - val_output22_acc: 0.9989 - val_output23_acc: 0.9936 - val_output24_acc: 0.9788\n",
            "Epoch 4/4\n",
            "1050/1050 [==============================] - 52s 50ms/step - loss: 0.8864 - output1_loss: 0.0151 - output2_loss: 0.0250 - output3_loss: 0.0537 - output4_loss: 0.0129 - output5_loss: 0.0315 - output6_loss: 0.0444 - output7_loss: 0.0539 - output8_loss: 0.0212 - output9_loss: 0.0124 - output10_loss: 0.0768 - output11_loss: 0.0498 - output12_loss: 0.0646 - output13_loss: 0.0483 - output14_loss: 0.0199 - output15_loss: 0.0021 - output16_loss: 0.1717 - output17_loss: 0.0073 - output18_loss: 0.0409 - output19_loss: 0.0164 - output20_loss: 0.0286 - output21_loss: 0.0041 - output22_loss: 0.0056 - output23_loss: 0.0227 - output24_loss: 0.0576 - output1_acc: 0.9945 - output2_acc: 0.9926 - output3_acc: 0.9818 - output4_acc: 0.9963 - output5_acc: 0.9889 - output6_acc: 0.9864 - output7_acc: 0.9810 - output8_acc: 0.9938 - output9_acc: 0.9968 - output10_acc: 0.9739 - output11_acc: 0.9831 - output12_acc: 0.9785 - output13_acc: 0.9852 - output14_acc: 0.9939 - output15_acc: 0.9995 - output16_acc: 0.9385 - output17_acc: 0.9981 - output18_acc: 0.9880 - output19_acc: 0.9958 - output20_acc: 0.9914 - output21_acc: 0.9989 - output22_acc: 0.9987 - output23_acc: 0.9934 - output24_acc: 0.9807 - val_loss: 1.0375 - val_output1_loss: 0.0183 - val_output2_loss: 0.0205 - val_output3_loss: 0.0577 - val_output4_loss: 0.0167 - val_output5_loss: 0.0423 - val_output6_loss: 0.0449 - val_output7_loss: 0.0632 - val_output8_loss: 0.0273 - val_output9_loss: 0.0143 - val_output10_loss: 0.0869 - val_output11_loss: 0.0569 - val_output12_loss: 0.0874 - val_output13_loss: 0.0598 - val_output14_loss: 0.0240 - val_output15_loss: 0.0014 - val_output16_loss: 0.2152 - val_output17_loss: 0.0088 - val_output18_loss: 0.0463 - val_output19_loss: 0.0204 - val_output20_loss: 0.0338 - val_output21_loss: 0.0028 - val_output22_loss: 0.0049 - val_output23_loss: 0.0210 - val_output24_loss: 0.0625 - val_output1_acc: 0.9946 - val_output2_acc: 0.9942 - val_output3_acc: 0.9798 - val_output4_acc: 0.9958 - val_output5_acc: 0.9860 - val_output6_acc: 0.9877 - val_output7_acc: 0.9789 - val_output8_acc: 0.9914 - val_output9_acc: 0.9962 - val_output10_acc: 0.9721 - val_output11_acc: 0.9814 - val_output12_acc: 0.9699 - val_output13_acc: 0.9825 - val_output14_acc: 0.9930 - val_output15_acc: 0.9997 - val_output16_acc: 0.9222 - val_output17_acc: 0.9972 - val_output18_acc: 0.9881 - val_output19_acc: 0.9947 - val_output20_acc: 0.9898 - val_output21_acc: 0.9993 - val_output22_acc: 0.9989 - val_output23_acc: 0.9943 - val_output24_acc: 0.9793\n"
          ]
        }
      ]
    },
    {
      "cell_type": "code",
      "source": [
        "import matplotlib.pyplot as plt\n",
        "plt.plot(history.history['loss'])\n",
        "plt.plot(history.history['val_loss'])\n",
        "\n",
        "plt.title('model loss')\n",
        "plt.ylabel('loss')\n",
        "plt.xlabel('epoch')\n",
        "plt.legend(['train','validation'], loc='upper left')\n",
        "plt.show()"
      ],
      "metadata": {
        "colab": {
          "base_uri": "https://localhost:8080/",
          "height": 472
        },
        "id": "InIidEDLrWWT",
        "outputId": "e7fa15ab-72d6-4846-ebee-4820f6396953"
      },
      "execution_count": null,
      "outputs": [
        {
          "output_type": "display_data",
          "data": {
            "text/plain": [
              "<Figure size 640x480 with 1 Axes>"
            ],
            "image/png": "[encoded data removed]"
          },
          "metadata": {}
        }
      ]
    },
    {
      "cell_type": "code",
      "source": [
        "test_text = ['ไฟแดง เลี้ยว ขวา เข้า ซอย เสีย ทำ ให้ รถ เลี้ยว ฝ่า ไฟ แดง ใน ตอน ทางตรง ไฟ เขียว อันตราย มาก ครับ']\n",
        "#test_text = ['พื้น แตก เป็น หลุม']\n",
        "encoded_test = encoding_doc(tokenizer, test_text)\n",
        "padded_test = padding_doc(encoded_test, max_len)\n",
        "\n",
        "# Generate predictions for samples\n",
        "predictions = model.predict(padded_test)\n",
        "for column_name, prediction in zip(train_data.columns[4:], predictions):\n",
        "    print(f'{column_name}  -->  {prediction}')"
      ],
      "metadata": {
        "colab": {
          "base_uri": "https://localhost:8080/"
        },
        "id": "FoXVvc6fvNWq",
        "outputId": "aece284a-6658-43a0-b970-2e452efdc9d0"
      },
      "execution_count": null,
      "outputs": [
        {
          "output_type": "stream",
          "name": "stdout",
          "text": [
            "1/1 [==============================] - 0s 23ms/step\n",
            "PM2.5  -->  [[5.4169213e-06]]\n",
            "การเดินทาง  -->  [[0.00093443]]\n",
            "กีดขวาง  -->  [[0.00424608]]\n",
            "คนจรจัด  -->  [[5.904413e-05]]\n",
            "คลอง  -->  [[0.0005298]]\n",
            "ความปลอดภัย  -->  [[0.99242145]]\n",
            "ความสะอาด  -->  [[0.00042781]]\n",
            "จราจร  -->  [[0.99179673]]\n",
            "ต้นไม้  -->  [[7.954759e-05]]\n",
            "ถนน  -->  [[0.00236408]]\n",
            "ทางเท้า  -->  [[9.43527e-05]]\n",
            "ท่อระบายน้ำ  -->  [[0.00030051]]\n",
            "น้ำท่วม  -->  [[3.992715e-05]]\n",
            "ป้าย  -->  [[0.00105262]]\n",
            "ป้ายจราจร  -->  [[4.1747557e-05]]\n",
            "ร้องเรียน  -->  [[0.00662563]]\n",
            "สอบถาม  -->  [[6.674452e-05]]\n",
            "สะพาน  -->  [[0.00176346]]\n",
            "สัตว์จรจัด  -->  [[0.00016223]]\n",
            "สายไฟ  -->  [[8.402889e-05]]\n",
            "ห้องน้ำ  -->  [[5.7672823e-05]]\n",
            "เสนอแนะ  -->  [[0.00024313]]\n",
            "เสียงรบกวน  -->  [[0.00013529]]\n",
            "แสงสว่าง  -->  [[0.07559918]]\n"
          ]
        }
      ]
    },
    {
      "cell_type": "code",
      "source": [
        "y_pred = model.predict(test_padded)"
      ],
      "metadata": {
        "colab": {
          "base_uri": "https://localhost:8080/"
        },
        "id": "AWIEfTTmvSxp",
        "outputId": "8ffb3329-33d6-451e-e1f8-23fe29cf6180"
      },
      "execution_count": null,
      "outputs": [
        {
          "output_type": "stream",
          "name": "stdout",
          "text": [
            "659/659 [==============================] - 3s 5ms/step\n"
          ]
        }
      ]
    },
    {
      "cell_type": "code",
      "source": [
        "y_test_df = pd.DataFrame(y_pred[0],columns=['PM2.5'])\n",
        "y_test_df['การเดินทาง'] = y_pred[1]\n",
        "y_test_df['กีดขวาง'] = y_pred[2]\n",
        "y_test_df['คนจรจัด']= y_pred[3]\n",
        "y_test_df['คลอง'] = y_pred[4]\n",
        "y_test_df['ความปลอดภัย'] = y_pred[5]\n",
        "y_test_df['ความสะอาด'] = y_pred[6]\n",
        "y_test_df['จราจร'] = y_pred[7]\n",
        "y_test_df['ต้นไม้'] = y_pred[8]\n",
        "y_test_df['ถนน'] = y_pred[9]\n",
        "y_test_df['ทางเท้า'] = y_pred[10]\n",
        "y_test_df['ท่อระบายน้ำ'] = y_pred[11]\n",
        "y_test_df['น้ำท่วม'] = y_pred[12]\n",
        "y_test_df['ป้าย'] = y_pred[13]\n",
        "y_test_df['ป้ายจราจร'] = y_pred[14]\n",
        "y_test_df['ร้องเรียน'] = y_pred[15]\n",
        "y_test_df['สอบถาม'] = y_pred[16]\n",
        "y_test_df['สะพาน'] = y_pred[17]\n",
        "y_test_df['สัตว์จรจัด'] = y_pred[18]\n",
        "y_test_df['สายไฟ'] = y_pred[19]\n",
        "y_test_df['ห้องน้ำ'] = y_pred[20]\n",
        "y_test_df['เสนอแนะ'] = y_pred[21]\n",
        "y_test_df['เสียงรบกวน'] = y_pred[22]\n",
        "y_test_df['แสงสว่าง'] = y_pred[23]"
      ],
      "metadata": {
        "id": "caogkgNTv9Aj"
      },
      "execution_count": null,
      "outputs": []
    },
    {
      "cell_type": "code",
      "source": [
        "y_true = test_data[['PM2.5', 'การเดินทาง', 'กีดขวาง', 'คนจรจัด', 'คลอง', 'ความปลอดภัย',\n",
        "       'ความสะอาด', 'จราจร', 'ต้นไม้', 'ถนน', 'ทางเท้า', 'ท่อระบายน้ำ',\n",
        "       'น้ำท่วม', 'ป้าย', 'ป้ายจราจร', 'ร้องเรียน', 'สอบถาม', 'สะพาน',\n",
        "       'สัตว์จรจัด', 'สายไฟ', 'ห้องน้ำ', 'เสนอแนะ', 'เสียงรบกวน', 'แสงสว่าง']]"
      ],
      "metadata": {
        "id": "1rp8iPc_v_W6"
      },
      "execution_count": null,
      "outputs": []
    },
    {
      "cell_type": "code",
      "source": [
        "import tensorflow_addons as tfa"
      ],
      "metadata": {
        "colab": {
          "base_uri": "https://localhost:8080/"
        },
        "id": "QSWaWxLrwCQp",
        "outputId": "ce599b34-bfa7-440b-d534-c7f7ec2f13f4"
      },
      "execution_count": null,
      "outputs": [
        {
          "output_type": "stream",
          "name": "stderr",
          "text": [
            "/usr/local/lib/python3.10/dist-packages/tensorflow_addons/utils/tfa_eol_msg.py:23: UserWarning: \n",
            "\n",
            "TensorFlow Addons (TFA) has ended development and introduction of new features.\n",
            "TFA has entered a minimal maintenance and release mode until a planned end of life in May 2024.\n",
            "Please modify downstream libraries to take dependencies from other repositories in our TensorFlow community (e.g. Keras, Keras-CV, and Keras-NLP). \n",
            "\n",
            "For more information see: https://github.com/tensorflow/addons/issues/2807 \n",
            "\n",
            "  warnings.warn(\n"
          ]
        }
      ]
    },
    {
      "cell_type": "code",
      "source": [
        "hl_metric = tfa.metrics.HammingLoss(mode='multilabel', threshold=0.5)\n",
        "hl_metric.update_state(y_true, y_test_df)\n",
        "hl_metric.result().numpy()"
      ],
      "metadata": {
        "colab": {
          "base_uri": "https://localhost:8080/"
        },
        "id": "Il1h1sAQwDw7",
        "outputId": "c2c475e4-7054-4223-e9c0-b667ed937e3f"
      },
      "execution_count": null,
      "outputs": [
        {
          "output_type": "execute_result",
          "data": {
            "text/plain": [
              "0.014094387"
            ]
          },
          "metadata": {},
          "execution_count": 50
        }
      ]
    },
    {
      "cell_type": "code",
      "source": [
        "y_pred_df = y_test_df.applymap(lambda x: 1 if x >= 0.5 else 0)"
      ],
      "metadata": {
        "id": "S6BWUXRQwIa5"
      },
      "execution_count": null,
      "outputs": []
    },
    {
      "cell_type": "code",
      "source": [
        "cols = ['PM2.5', 'การเดินทาง', 'กีดขวาง', 'คนจรจัด', 'คลอง', 'ความปลอดภัย',\n",
        "       'ความสะอาด', 'จราจร', 'ต้นไม้', 'ถนน', 'ทางเท้า', 'ท่อระบายน้ำ',\n",
        "       'น้ำท่วม', 'ป้าย', 'ป้ายจราจร', 'ร้องเรียน', 'สอบถาม', 'สะพาน',\n",
        "       'สัตว์จรจัด', 'สายไฟ', 'ห้องน้ำ', 'เสนอแนะ', 'เสียงรบกวน', 'แสงสว่าง']"
      ],
      "metadata": {
        "id": "eGKSV365wLFJ"
      },
      "execution_count": null,
      "outputs": []
    },
    {
      "cell_type": "code",
      "source": [
        "from sklearn.metrics import classification_report\n",
        "print(classification_report(y_true, y_pred_df, target_names=cols))"
      ],
      "metadata": {
        "colab": {
          "base_uri": "https://localhost:8080/"
        },
        "id": "ovEd-Uh4wMvB",
        "outputId": "2fa0cd90-0eb8-47a1-dbea-19ba8d571ec7"
      },
      "execution_count": null,
      "outputs": [
        {
          "output_type": "stream",
          "name": "stdout",
          "text": [
            "              precision    recall  f1-score   support\n",
            "\n",
            "       PM2.5       0.80      0.88      0.84       377\n",
            "  การเดินทาง       0.65      0.30      0.41       168\n",
            "     กีดขวาง       0.85      0.84      0.85      1625\n",
            "     คนจรจัด       0.95      0.75      0.84       326\n",
            "        คลอง       0.86      0.92      0.89      1285\n",
            " ความปลอดภัย       0.94      0.97      0.95      2986\n",
            "   ความสะอาด       0.89      0.88      0.88      1773\n",
            "       จราจร       0.97      0.92      0.94      1596\n",
            "      ต้นไม้       0.98      0.96      0.97      1542\n",
            "         ถนน       0.95      0.96      0.95      7164\n",
            "     ทางเท้า       0.93      0.94      0.94      2973\n",
            " ท่อระบายน้ำ       0.87      0.80      0.83      1861\n",
            "     น้ำท่วม       0.94      0.80      0.87      1435\n",
            "        ป้าย       0.97      0.96      0.97      1730\n",
            "   ป้ายจราจร       0.99      0.88      0.93        92\n",
            "   ร้องเรียน       0.74      0.58      0.65      2463\n",
            "      สอบถาม       0.97      0.89      0.93       421\n",
            "       สะพาน       0.93      0.92      0.93      1936\n",
            "  สัตว์จรจัด       0.96      0.91      0.93      1049\n",
            "       สายไฟ       0.97      0.92      0.94      1996\n",
            "     ห้องน้ำ       0.98      0.84      0.91       102\n",
            "     เสนอแนะ       0.98      0.94      0.96       329\n",
            "  เสียงรบกวน       0.96      0.97      0.97      1973\n",
            "    แสงสว่าง       0.94      0.87      0.90      2429\n",
            "\n",
            "   micro avg       0.92      0.89      0.91     39631\n",
            "   macro avg       0.92      0.86      0.88     39631\n",
            "weighted avg       0.92      0.89      0.91     39631\n",
            " samples avg       0.91      0.90      0.89     39631\n",
            "\n"
          ]
        },
        {
          "output_type": "stream",
          "name": "stderr",
          "text": [
            "/usr/local/lib/python3.10/dist-packages/sklearn/metrics/_classification.py:1344: UndefinedMetricWarning: Precision and F-score are ill-defined and being set to 0.0 in samples with no predicted labels. Use `zero_division` parameter to control this behavior.\n",
            "  _warn_prf(average, modifier, msg_start, len(result))\n"
          ]
        }
      ]
    }
  ]
}
